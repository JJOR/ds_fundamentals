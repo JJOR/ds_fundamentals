{
 "cells": [
  {
   "cell_type": "markdown",
   "metadata": {},
   "source": [
    "\n",
    "# Data Science Fundamentals - Python Operations\n",
    "\n",
    "> **Learning Objectives:**\n",
    "> * 🧠 Understand the basic Python operations"
   ]
  },
  {
   "cell_type": "markdown",
   "metadata": {
    "id": "gATA4PUDmsHu"
   },
   "source": [
    "### Introduction to Python and Data Science Related Packages\n",
    "- Arithmetic\n",
    "- Comparison\n",
    "- Logical\n",
    "- NumPy"
   ]
  },
  {
   "cell_type": "markdown",
   "metadata": {
    "id": "3EcVdXBiY5sB"
   },
   "source": [
    "## 1. Arithmetic Operators"
   ]
  },
  {
   "cell_type": "code",
   "execution_count": null,
   "metadata": {
    "colab": {
     "base_uri": "https://localhost:8080/"
    },
    "id": "Y6nYNxWimpip",
    "outputId": "bcddb9ab-f326-49b4-d471-0648479f2e51"
   },
   "outputs": [],
   "source": [
    "#  Perform basic arithmetic operations\n",
    "a = 10\n",
    "b = 5\n",
    "\n",
    "# Addition\n",
    "result_add = a + b\n",
    "print(\"Addition:\", result_add)"
   ]
  },
  {
   "cell_type": "code",
   "execution_count": null,
   "metadata": {},
   "outputs": [],
   "source": [
    "# Subtraction\n",
    "result_sub = a - b\n",
    "print(\"Subtraction:\", result_sub)"
   ]
  },
  {
   "cell_type": "code",
   "execution_count": null,
   "metadata": {},
   "outputs": [],
   "source": [
    "# Multiplication\n",
    "result_mul = a * b\n",
    "print(\"Multiplication:\", result_mul)"
   ]
  },
  {
   "cell_type": "code",
   "execution_count": null,
   "metadata": {},
   "outputs": [],
   "source": [
    "# Division\n",
    "result_div = a / b\n",
    "print(\"Division:\", result_div)"
   ]
  },
  {
   "cell_type": "code",
   "execution_count": null,
   "metadata": {},
   "outputs": [],
   "source": [
    "# Modulus\n",
    "result_mod = a % b\n",
    "print(\"Modulus:\", result_mod)"
   ]
  },
  {
   "cell_type": "code",
   "execution_count": null,
   "metadata": {},
   "outputs": [],
   "source": [
    "# Exponentiation\n",
    "result_exp = a ** b\n",
    "print(\"Exponentiation:\", result_exp)"
   ]
  },
  {
   "cell_type": "markdown",
   "metadata": {},
   "source": [
    "## 2. Comparison Operators"
   ]
  },
  {
   "cell_type": "code",
   "execution_count": null,
   "metadata": {},
   "outputs": [],
   "source": [
    "# Compare two numbers\n",
    "x = 15\n",
    "y = 20\n",
    "\n",
    "# Greater than\n",
    "print(\"Is x > y?\", x > y)"
   ]
  },
  {
   "cell_type": "code",
   "execution_count": null,
   "metadata": {},
   "outputs": [],
   "source": [
    "# Less than\n",
    "print(\"Is x < y?\", x < y)"
   ]
  },
  {
   "cell_type": "code",
   "execution_count": null,
   "metadata": {},
   "outputs": [],
   "source": [
    "# Equal to\n",
    "print(\"Is x == y?\", x == y)"
   ]
  },
  {
   "cell_type": "code",
   "execution_count": null,
   "metadata": {},
   "outputs": [],
   "source": [
    "# Not equal to\n",
    "print(\"Is x != y?\", x != y)"
   ]
  },
  {
   "cell_type": "markdown",
   "metadata": {},
   "source": [
    "## 3. Logical Operators"
   ]
  },
  {
   "cell_type": "code",
   "execution_count": null,
   "metadata": {},
   "outputs": [],
   "source": [
    "#  Use logical operators\n",
    "a = True\n",
    "b = False\n",
    "\n",
    "# Logical AND\n",
    "print(\"a and b:\", a and b)"
   ]
  },
  {
   "cell_type": "code",
   "execution_count": null,
   "metadata": {},
   "outputs": [],
   "source": [
    "# Logical OR\n",
    "print(\"a or b:\", a or b)"
   ]
  },
  {
   "cell_type": "code",
   "execution_count": null,
   "metadata": {},
   "outputs": [],
   "source": [
    "# Logical NOT\n",
    "print(\"not a:\", not a)"
   ]
  },
  {
   "cell_type": "markdown",
   "metadata": {
    "colab": {
     "base_uri": "https://localhost:8080/"
    },
    "id": "sbXk5zpGU8ZH",
    "outputId": "f66017f5-a9f1-42d2-c98f-52ca974e5150"
   },
   "source": [
    "## Excerise: Voting Eligibility"
   ]
  },
  {
   "cell_type": "code",
   "execution_count": null,
   "metadata": {},
   "outputs": [],
   "source": [
    "age = int(input(\"Enter your age: \"))\n",
    "is_citizen = input(\"Are you a citizen? (yes/no): \").lower() == 'yes'"
   ]
  },
  {
   "cell_type": "code",
   "execution_count": null,
   "metadata": {},
   "outputs": [],
   "source": [
    "# Check eligibility\n",
    "eligible_to_vote = (age >= 18) and is_citizen\n",
    "print(\"Eligible to vote:\", eligible_to_vote)"
   ]
  },
  {
   "cell_type": "markdown",
   "metadata": {},
   "source": [
    "# To-Dos"
   ]
  },
  {
   "cell_type": "markdown",
   "metadata": {},
   "source": [
    "### Implement a Simple Grade Checker.\n",
    "- Input: exam score\n",
    "- Pass if exam score >= 80, Fail if exam score <80"
   ]
  },
  {
   "cell_type": "code",
   "execution_count": null,
   "metadata": {},
   "outputs": [],
   "source": []
  },
  {
   "cell_type": "markdown",
   "metadata": {},
   "source": [
    "## 4. Numpy Operators"
   ]
  },
  {
   "cell_type": "code",
   "execution_count": null,
   "metadata": {},
   "outputs": [],
   "source": [
    "import numpy as np"
   ]
  },
  {
   "cell_type": "code",
   "execution_count": null,
   "metadata": {},
   "outputs": [],
   "source": [
    "# Create a 1D NumPy array\n",
    "array_1d = np.array([1, 2, 3, 4, 5])\n",
    "print(\"1D Array:\", array_1d)"
   ]
  },
  {
   "cell_type": "code",
   "execution_count": null,
   "metadata": {},
   "outputs": [],
   "source": [
    "#  Create a 2D NumPy array\n",
    "array_2d = np.array([[1, 2, 3], [4, 5, 6]])\n",
    "print(\"2D Array:\\n\", array_2d)"
   ]
  },
  {
   "cell_type": "code",
   "execution_count": null,
   "metadata": {},
   "outputs": [],
   "source": [
    "# Perform arithmetic operations on arrays\n",
    "array_a = np.array([10, 20, 30])\n",
    "array_b = np.array([1, 2, 3])\n",
    "\n",
    "# Addition\n",
    "result_add = array_a + array_b\n",
    "print(\"Array Addition:\", result_add)"
   ]
  },
  {
   "cell_type": "code",
   "execution_count": null,
   "metadata": {},
   "outputs": [],
   "source": [
    "# Multiplication\n",
    "result_mul = array_a * array_b\n",
    "print(\"Array Multiplication:\", result_mul)"
   ]
  },
  {
   "cell_type": "code",
   "execution_count": null,
   "metadata": {},
   "outputs": [],
   "source": [
    "#  Calculate mean and standard deviation\n",
    "data = np.array([1, 2, 3, 4, 5])\n",
    "mean_value = np.mean(data)\n",
    "std_deviation = np.std(data)\n",
    "\n",
    "print(\"Mean:\", mean_value)\n",
    "print(\"Standard Deviation:\", std_deviation)"
   ]
  },
  {
   "cell_type": "code",
   "execution_count": null,
   "metadata": {
    "colab": {
     "base_uri": "https://localhost:8080/"
    },
    "id": "C4-9N1PXzXbE",
    "outputId": "2d95affb-b649-4de5-9702-fe0cf5d838de"
   },
   "outputs": [],
   "source": [
    "# Indexing and slicing\n",
    "sample_array = np.arange(10)\n",
    "print(\"Original Array:\", sample_array)\n",
    "print(\"Element at Index 2:\", sample_array[2])\n",
    "print(\"Slice from Index 2 to 5:\", sample_array[2:5])\n",
    "print(sample_array[5:])"
   ]
  },
  {
   "cell_type": "code",
   "execution_count": null,
   "metadata": {
    "colab": {
     "base_uri": "https://localhost:8080/"
    },
    "id": "nGyuhnoWzZvb",
    "outputId": "acf1d26f-5440-4023-9d52-6a3528776273"
   },
   "outputs": [],
   "source": [
    "# Shape and reshaping of arrays\n",
    "array_2d = np.array([[1, 2, 3], [4, 5, 6]])\n",
    "print(\"2D Array Shape:\", array_2d.shape)\n",
    "print(array_2d[0][1])\n",
    "print(array_2d)\n",
    "reshaped_array = array_2d.reshape(3, 2)\n",
    "print(\"Reshaped Array:\\n\", reshaped_array)"
   ]
  },
  {
   "cell_type": "markdown",
   "metadata": {},
   "source": [
    "## 5. Structured Arrays"
   ]
  },
  {
   "cell_type": "code",
   "execution_count": null,
   "metadata": {},
   "outputs": [],
   "source": [
    "# Structured Arrays\n",
    "name = ['Alice', 'Bob', 'Cathy', 'Doug']\n",
    "age = [25, 45, 37, 19]\n",
    "weight = [155.0, 185.5, 138.0, 171.5]"
   ]
  },
  {
   "cell_type": "code",
   "execution_count": null,
   "metadata": {},
   "outputs": [],
   "source": [
    "# Create a structured array with fields: name, age, and height\n",
    "data = np.zeros(4, dtype={'names':('name', 'age', 'weight'),\n",
    "                          'formats':('U10', 'i4', 'f8')})\n",
    "print(data.dtype)"
   ]
  },
  {
   "cell_type": "code",
   "execution_count": null,
   "metadata": {},
   "outputs": [],
   "source": [
    "# fill the array with our lists of values\n",
    "data['name'] = name\n",
    "data['age'] = age\n",
    "data['weight'] = weight\n",
    "print(data)"
   ]
  },
  {
   "cell_type": "code",
   "execution_count": null,
   "metadata": {},
   "outputs": [],
   "source": [
    "# Get all names\n",
    "data['name']"
   ]
  },
  {
   "cell_type": "code",
   "execution_count": null,
   "metadata": {},
   "outputs": [],
   "source": [
    "# Get first row of data\n",
    "data[0]"
   ]
  },
  {
   "cell_type": "code",
   "execution_count": null,
   "metadata": {},
   "outputs": [],
   "source": [
    "# Get the name from the last row\n",
    "data[-1]['name']"
   ]
  },
  {
   "cell_type": "code",
   "execution_count": null,
   "metadata": {},
   "outputs": [],
   "source": [
    "# Get names where age is under 30\n",
    "data[data['age'] < 30]['name']"
   ]
  },
  {
   "cell_type": "markdown",
   "metadata": {},
   "source": [
    "## To-Dos"
   ]
  },
  {
   "cell_type": "markdown",
   "metadata": {},
   "source": [
    "### 1. Select rows where age > 30"
   ]
  },
  {
   "cell_type": "code",
   "execution_count": null,
   "metadata": {},
   "outputs": [],
   "source": []
  },
  {
   "cell_type": "markdown",
   "metadata": {},
   "source": [
    "### 2. Get name where age > 30 and Weight < 180"
   ]
  },
  {
   "cell_type": "code",
   "execution_count": null,
   "metadata": {},
   "outputs": [],
   "source": []
  },
  {
   "cell_type": "markdown",
   "metadata": {},
   "source": [
    "## On to Pandas"
   ]
  },
  {
   "cell_type": "markdown",
   "metadata": {},
   "source": [
    "Structured arrays can come in handy in certain situations, like when you're using NumPy arrays to map onto binary data formats in C, Fortran, or another language. But for day-to-day use of structured data, the Pandas package is a much better choice."
   ]
  }
 ],
 "metadata": {
  "colab": {
   "provenance": []
  },
  "kernelspec": {
   "display_name": "Python [conda env:base] *",
   "language": "python",
   "name": "conda-base-py"
  },
  "language_info": {
   "codemirror_mode": {
    "name": "ipython",
    "version": 3
   },
   "file_extension": ".py",
   "mimetype": "text/x-python",
   "name": "python",
   "nbconvert_exporter": "python",
   "pygments_lexer": "ipython3",
   "version": "3.12.7"
  }
 },
 "nbformat": 4,
 "nbformat_minor": 4
}
